{
 "cells": [
  {
   "cell_type": "code",
   "execution_count": null,
   "metadata": {},
   "outputs": [],
   "source": [
    "import numpy as np\n",
    "import pandas as pd\n",
    "import matplotlib.pyplot as plt\n",
    "import pytz\n",
    "from scipy.stats import linregress\n",
    "\n",
    "pd.set_option('display.max_rows', 1000)\n",
    "from pandas.plotting import register_matplotlib_converters\n",
    "register_matplotlib_converters()"
   ]
  },
  {
   "cell_type": "code",
   "execution_count": null,
   "metadata": {},
   "outputs": [],
   "source": [
    "report_types = pd.api.types.CategoricalDtype(['mood', 'sleep', 'anticipatoryStress', 'ruminationStress'])\n",
    "subj_measures = pd.read_csv('subj_measures.csv', dtype={'types': report_types}, parse_dates=['date'])\n",
    "subj_measures = subj_measures.sort_values('date').reset_index().drop('index', axis='columns')\n",
    "\n",
    "eastern = pytz.timezone('US/Eastern')\n",
    "subj_measures['date_eastern'] = subj_measures['date'].dt.tz_convert(eastern)\n",
    "subj_measures['time_of_day'] = subj_measures['date_eastern'].dt.hour + \\\n",
    "                               subj_measures['date_eastern'].dt.minute/60\n",
    "subj_measures['hour'] = subj_measures['date_eastern'].dt.hour\n",
    "subj_measures['month'] = subj_measures['date_eastern'].dt.to_period(freq='M')"
   ]
  },
  {
   "cell_type": "code",
   "execution_count": null,
   "metadata": {},
   "outputs": [],
   "source": [
    "unique_users = subj_measures.user_id.unique()\n",
    "print(unique_users)"
   ]
  },
  {
   "cell_type": "code",
   "execution_count": null,
   "metadata": {},
   "outputs": [],
   "source": [
    "user_df = pd.DataFrame({'user_id': unique_users}).set_index('user_id')\n",
    "user_df['first_date'] = subj_measures.groupby('user_id').first().date_eastern\n",
    "user_df['last_date'] = subj_measures.groupby('user_id').last().date_eastern\n",
    "user_df['num_days'] = (user_df['last_date'] - user_df['first_date']).dt.components.days\n",
    "user_df['num_reports'] = subj_measures.groupby('user_id').count().value\n",
    "for metric in report_types.categories.values:\n",
    "    user_df['avg_' + metric] = subj_measures[subj_measures['type']==metric].groupby('user_id').mean().value\n",
    "\n",
    "user_df['morning_reports_sleep'] = subj_measures[(subj_measures['type']=='sleep') & (subj_measures['hour'].isin([8,9,10,11,12]))].groupby('user_id').count().value\n",
    "user_df"
   ]
  },
  {
   "cell_type": "code",
   "execution_count": null,
   "metadata": {},
   "outputs": [],
   "source": [
    "def single_user_by_month(user_id, subj_measures=subj_measures, metrics=report_types.categories.values):\n",
    "    user_select = subj_measures['user_id'] == user_id\n",
    "    \n",
    "    metric_select = {m: subj_measures['type'] == m for m in metrics}\n",
    "    \n",
    "    unique_months = subj_measures[user_select].month.unique()\n",
    "    single_user_df = pd.DataFrame({'month': unique_months}).set_index('month')\n",
    "    \n",
    "    for metric, m_select in metric_select.items():\n",
    "        single_user_df[metric] = subj_measures[user_select & m_select].groupby(\n",
    "            subj_measures[user_select].month).mean().value\n",
    "        single_user_df['num_' + metric] = subj_measures[user_select & m_select].groupby(\n",
    "            subj_measures[user_select].month).count().value\n",
    "        single_user_df['num_' + metric] = single_user_df['num_' + metric].fillna(0.0)\n",
    "    \n",
    "    return single_user_df.reset_index()\n",
    "\n",
    "\n",
    "def progress_plot(user_id, metrics=['mood', 'sleep'], subj_measures=subj_measures):\n",
    "    by_month = single_user_by_month(user_id)\n",
    "    f, (ax1, ax2) = plt.subplots(2, 1, sharex=True, figsize=(10, 6), gridspec_kw={'height_ratios': [3, 1]})\n",
    "\n",
    "    for metric in metrics:\n",
    "        ax1.plot_date(by_month.month.dt.to_timestamp(), by_month[metric], '-o', label=metric)\n",
    "    \n",
    "    ax1.set_yticks(np.arange(0, 4.5, 0.5))\n",
    "    ax1.set_ylabel(\"Score\")\n",
    "    ax1.legend()\n",
    "    \n",
    "    cumsum = np.zeros_like(by_month['num_'+metric])\n",
    "\n",
    "    for metric in metrics:\n",
    "        ax2.bar(by_month.month.dt.to_timestamp(), by_month['num_'+metric],\n",
    "                width=7.0, bottom = cumsum)\n",
    "        cumsum += by_month['num_'+metric]\n",
    "    ax2.tick_params(labelrotation=25)\n",
    "    ax2.set_ylabel(\"Total Reports\")\n",
    "    \n",
    "    ax1.set_title(\"Monthly Trend\".format(metric))\n",
    "    \n",
    "    \n",
    "    \n",
    "progress_plot(2012, metrics=['mood', 'sleep'])"
   ]
  },
  {
   "cell_type": "code",
   "execution_count": null,
   "metadata": {},
   "outputs": [],
   "source": [
    "def monthly_trend(user_id, metric='mood', by_month=None):\n",
    "    if by_month is None:\n",
    "        by_month=single_user_by_month(2025)\n",
    "        \n",
    "    goodvals = ~by_month[metric].isna()\n",
    "    result = linregress(by_month.index[goodvals], by_month[metric][goodvals])\n",
    "    \n",
    "    return result.slope\n",
    "\n",
    "for metric in report_types.categories.values:\n",
    "    user_df['trend_' + metric] = 0.0\n",
    "\n",
    "for user_id in unique_users:\n",
    "    by_month = single_user_by_month(user_id)\n",
    "    for metric in report_types.categories.values:\n",
    "        try:\n",
    "            user_df.loc[user_id, 'trend_' + metric] = monthly_trend(user_id, metric=metric, by_month=by_month)\n",
    "        except:\n",
    "            user_df.loc[user_id, 'trend_' + metric] = np.nan\n",
    "    \n",
    "user_df"
   ]
  },
  {
   "cell_type": "code",
   "execution_count": null,
   "metadata": {},
   "outputs": [],
   "source": [
    "plt.hist(user_df.morning_reports_sleep/user_df.num_days, bins=np.arange(0,0.4,0.005));\n",
    "#plt.hist(user_df.trend_mood, bins=np.arange(0,4.0,0.05));\n",
    "#plt.hist(user_df.trend_anticipatoryStress, bins=np.arange(0,4.0,0.05));\n",
    "#plt.hist(user_df.trend_ruminationStress, bins=np.arange(0,4.0,0.05));"
   ]
  },
  {
   "cell_type": "code",
   "execution_count": null,
   "metadata": {},
   "outputs": [],
   "source": [
    "plt.figure(figsize=(16,12))\n",
    "plt.hist((subj_measures['date_eastern'].dt.hour + subj_measures['date_eastern'].dt.minute/60), bins=np.arange(0, 24.25, 0.25));\n",
    "plt.xticks(np.arange(0, 24, 4))"
   ]
  },
  {
   "cell_type": "code",
   "execution_count": null,
   "metadata": {},
   "outputs": [],
   "source": [
    "by_hour_mood = subj_measures[subj_measures['type'] == 'mood'].groupby('hour').mean()\n",
    "by_hour_sleep = subj_measures[subj_measures['type'] == 'sleep'].groupby('hour').mean()\n",
    "by_hour_anticip = subj_measures[subj_measures['type'] == 'anticipatoryStress'].groupby('hour').mean()\n",
    "plt.plot(by_hour_mood.index, by_hour_mood.value)\n",
    "plt.plot(by_hour_sleep.index, by_hour_sleep.value)\n",
    "plt.plot(by_hour_anticip.index, by_hour_anticip.value)"
   ]
  },
  {
   "cell_type": "code",
   "execution_count": null,
   "metadata": {},
   "outputs": [],
   "source": [
    "report_types.categories.values"
   ]
  },
  {
   "cell_type": "code",
   "execution_count": null,
   "metadata": {},
   "outputs": [],
   "source": []
  }
 ],
 "metadata": {
  "language_info": {
   "name": "python",
   "pygments_lexer": "ipython3"
  }
 },
 "nbformat": 4,
 "nbformat_minor": 2
}
