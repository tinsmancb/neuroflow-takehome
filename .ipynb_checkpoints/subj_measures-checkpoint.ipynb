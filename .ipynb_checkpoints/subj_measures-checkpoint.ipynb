{
 "cells": [
  {
   "cell_type": "code",
   "execution_count": null,
   "metadata": {},
   "outputs": [],
   "source": [
    "import numpy as np\n",
    "import pandas as pd\n",
    "import matplotlib.pyplot as plt\n",
    "import seaborn as sns\n",
    "import pytz\n",
    "\n",
    "from pandas.plotting import register_matplotlib_converters\n",
    "register_matplotlib_converters()"
   ]
  },
  {
   "cell_type": "markdown",
   "metadata": {},
   "source": [
    "# Neuroflow Data Team Take-home Project: Part 1\n",
    "\n",
    "To begin, I read in the data from the csv file and made sure that the proper data types were assigned. This required setting a category for the report type and making sure the date column was indeed parsed as a date. I also converted the dates from UTC to Eastern time, and found the hour and month of each report which are used in different parts of the analysis below. It was not explicitly stated that all the reports were on Eastern time, but I will justify that decision in the next cell. Note that a warning is generated that truncating the dates to months will drop time zone info, but this will not be relevant here."
   ]
  },
  {
   "cell_type": "code",
   "execution_count": null,
   "metadata": {},
   "outputs": [],
   "source": [
    "report_types = pd.api.types.CategoricalDtype(['mood', 'sleep', 'anticipatoryStress', 'ruminationStress'])\n",
    "subj_measures = pd.read_csv('subj_measures.csv', dtype={'types': report_types}, parse_dates=['date'])\n",
    "subj_measures = subj_measures.sort_values('date').reset_index().drop('index', axis='columns')\n",
    "\n",
    "eastern = pytz.timezone('US/Eastern')\n",
    "subj_measures['date_eastern'] = subj_measures['date'].dt.tz_convert(eastern)\n",
    "subj_measures['time_of_day'] = subj_measures['date_eastern'].dt.hour + \\\n",
    "                               subj_measures['date_eastern'].dt.minute/60\n",
    "subj_measures['hour'] = subj_measures['date_eastern'].dt.hour\n",
    "subj_measures['month'] = subj_measures['date_eastern'].dt.to_period(freq='M')"
   ]
  },
  {
   "cell_type": "markdown",
   "metadata": {},
   "source": [
    "## Converting the report times to the eastern time zone.\n",
    "\n",
    "The prompt stated that users of the app are given a notification to rate their sleep and mood at 8 AM every day. When we plot a histogram of the distriubtion of times during the day when reports are made, there are two large spikes: one at 12:00 UTC and one at 13:00 UTC. The eastern time zone is 5 hours behind UTC normally and 4 hours behind during daylight savings time. These spikes being 4 and 5 hours ahead of 8 AM UTC respectively, we can intuit that the times might all be eastern time. Indeed, when we convert the dates to the eastern time zone, we see the two spikes collapse onto one at 8 AM, the time when the users are prompted for reports. From this data, we can see that by far most reports are made at 8 AM or before 12 noon, and then tail off gradually into the afternoon, evening and night."
   ]
  },
  {
   "cell_type": "code",
   "execution_count": null,
   "metadata": {},
   "outputs": [],
   "source": [
    "plt.figure(figsize=(8,6))\n",
    "plt.hist((subj_measures['date'].dt.hour + subj_measures['date'].dt.minute/60),\n",
    "         bins=np.arange(0, 24.25, 0.25));\n",
    "plt.title(\"Distriubtion of Report Times, UTC\")\n",
    "plt.xlabel(\"Hour\")\n",
    "plt.ylabel(\"Number of Reports\")\n",
    "plt.xticks(np.arange(0, 24, 4));\n",
    "\n",
    "plt.figure(figsize=(8,6))\n",
    "plt.hist((subj_measures['date_eastern'].dt.hour + subj_measures['date_eastern'].dt.minute/60),\n",
    "         bins=np.arange(0, 24.25, 0.25));\n",
    "plt.title(\"Distriubtion of Report Times, Eastern\")\n",
    "plt.xlabel(\"Hour\")\n",
    "plt.ylabel(\"Number of Reports\")\n",
    "plt.xticks(np.arange(0, 24, 4));"
   ]
  },
  {
   "cell_type": "markdown",
   "metadata": {},
   "source": [
    "## Computing per user features\n",
    "\n",
    "Here we compute some per user features which might be interesting. These include:\n",
    "\n",
    "* The number of days each users has been using the app, computed by taking the difference in time between the first report and the last report in the dataset\n",
    "* The total number of reports made by the user\n",
    "* The number of sleep reports made in the hour following 8 AM, as a proxy for how well users were sticking to using the app\n",
    "* The number of mood reports made in the hour following 8 AM\n",
    "* Overall averages for all the metrics."
   ]
  },
  {
   "cell_type": "code",
   "execution_count": null,
   "metadata": {},
   "outputs": [],
   "source": [
    "user_df = pd.DataFrame({'user_id': subj_measures.user_id.unique()}).set_index('user_id')\n",
    "user_df['first_date'] = subj_measures.groupby('user_id').first().date_eastern\n",
    "user_df['num_days'] = (subj_measures['date_eastern'].max() - user_df['first_date']).dt.components.days\n",
    "user_df['num_reports'] = subj_measures.groupby('user_id').count().value\n",
    "user_df['num_morning_reports_sleep'] = subj_measures[ \\\n",
    "    (subj_measures['type']=='sleep') & (subj_measures['hour'] == 8)].groupby('user_id').count().value\n",
    "user_df['num_morning_reports_mood'] = subj_measures[ \\\n",
    "    (subj_measures['type']=='mood') & (subj_measures['hour'] == 8)].groupby('user_id').count().value\n",
    "\n",
    "for metric in report_types.categories.values:\n",
    "    user_df['avg_' + metric] = subj_measures[subj_measures['type']==metric].groupby('user_id').mean().value"
   ]
  },
  {
   "cell_type": "markdown",
   "metadata": {},
   "source": [
    "## Distribution of Start Dates\n",
    "\n",
    "Plotted below is the distribution of number of days since the first report, measuring the time spent on the app. We can see that most of the users started around the same time, with a spike around 340 days and a larger group around 310. This may indicate that all of the users started around the same time, with some giving a report on their first day or soon afterwards, but most waiting around a month."
   ]
  },
  {
   "cell_type": "code",
   "execution_count": null,
   "metadata": {},
   "outputs": [],
   "source": [
    "plt.figure(figsize=(8,6))\n",
    "plt.hist(user_df['num_days'], bins=np.arange(240, 365, 5));\n",
    "plt.title(\"Time since first report\")\n",
    "plt.xlabel(\"Days\")\n",
    "plt.ylabel(\"Number of Users\")"
   ]
  },
  {
   "cell_type": "markdown",
   "metadata": {},
   "source": [
    "## Monthly Averages\n",
    "\n",
    "The prompt mentioned that an ongoing problem has been creating visualizations to track progress in these metrics. Below, I have created a function which plots a monthly average of any subset of the metrics, along with the number of reports made. Individual ratings can change quite a bit day to day, so averaging over an entire month allows the overall trend to become more clear. The number of reports made of each type is shown as well, in order to give some idea of how well the patient is keeping up with the exercies. The function takes a user id as well as a list of analytics to plot. Note than in some cases (particularly for the stress metrics) there might be no reports made in a montly period, so there will be no data for that month."
   ]
  },
  {
   "cell_type": "code",
   "execution_count": null,
   "metadata": {},
   "outputs": [],
   "source": [
    "def single_user_by_month(user_id, metrics=report_types.categories.values, subj_measures=subj_measures):\n",
    "    \"\"\"Compute monthly averages of each of the metrics for a single user.\"\"\"\n",
    "    user_select = subj_measures['user_id'] == user_id\n",
    "    \n",
    "    metric_select = {m: subj_measures['type'] == m for m in metrics}\n",
    "    \n",
    "    unique_months = subj_measures[user_select].month.unique()\n",
    "    single_user_df = pd.DataFrame({'month': unique_months}).set_index('month')\n",
    "    \n",
    "    for metric, m_select in metric_select.items():\n",
    "        single_user_df[metric] = subj_measures[user_select & m_select].groupby(\n",
    "            subj_measures[user_select].month).mean().value\n",
    "        single_user_df['num_' + metric] = subj_measures[user_select & m_select].groupby(\n",
    "            subj_measures[user_select].month).count().value\n",
    "        single_user_df['num_' + metric] = single_user_df['num_' + metric].fillna(0.0)\n",
    "    \n",
    "    return single_user_df.reset_index()\n",
    "\n",
    "\n",
    "def progress_plot(user_id, metrics=['mood', 'sleep'], subj_measures=subj_measures):\n",
    "    \"\"\"Plot monthly averages and number of reports for a list of metrics.\"\"\"\n",
    "    by_month = single_user_by_month(user_id)\n",
    "    f, (ax1, ax2) = plt.subplots(2, 1, sharex=True, figsize=(10, 6), gridspec_kw={'height_ratios': [3, 1]})\n",
    "\n",
    "    for metric in metrics:\n",
    "        ax1.plot_date(by_month.month.dt.to_timestamp(), by_month[metric], '-o', label=metric)\n",
    "    \n",
    "    ax1.set_yticks(np.arange(0, 4.5, 0.5))\n",
    "    ax1.set_ylabel(\"Score\")\n",
    "    ax1.legend()\n",
    "    \n",
    "    cumsum = np.zeros_like(by_month['num_'+metric])\n",
    "\n",
    "    for metric in metrics:\n",
    "        ax2.bar(by_month.month.dt.to_timestamp(), by_month['num_'+metric],\n",
    "                width=7.0, bottom = cumsum)\n",
    "        cumsum += by_month['num_'+metric]\n",
    "    ax2.tick_params(labelrotation=25)\n",
    "    ax2.set_ylabel(\"Total Reports\")\n",
    "    \n",
    "    ax1.set_title(\"Monthly Trend\".format(metric))\n",
    "    \n",
    "\n",
    "progress_plot(2012, metrics=['mood', 'sleep', 'anticipatoryStress', 'ruminationStress'])"
   ]
  },
  {
   "cell_type": "markdown",
   "metadata": {},
   "source": [
    "## Distriubtion and correlation of the metrics\n",
    "\n",
    "Here we have the distribution (plotted along the diagonal) and pairwise correlation (along the off-diagonal) of the average values of the four metrics for each user. Sleep and Mood appear to be more or less normally distributed, while the stress metrics have a more asymmetrical distribution. This may just be a consequence of the fact that there are many more sleep and mood reports in the dataset than stress reports. There are also not a lot of correlation present between the metrics themselves, it would make sense to me for users with higher quality sleep to have better mood, for example. There is more variation overall in the stress metrics than in the other two, but this can once again be attributed to the number of reports of each type."
   ]
  },
  {
   "cell_type": "code",
   "execution_count": null,
   "metadata": {},
   "outputs": [],
   "source": [
    "g = sns.pairplot(user_df, vars=[\"avg_mood\", \"avg_sleep\", \"avg_anticipatoryStress\", \"avg_ruminationStress\"])\n",
    "g.map_diag(plt.hist, bins=np.arange(0.0, 4.25, 0.25))\n",
    "g.map_offdiag(plt.scatter).set(xticks=np.arange(0,4.1,1.0), yticks=np.arange(0,4.1,1.0))"
   ]
  },
  {
   "cell_type": "markdown",
   "metadata": {},
   "source": [
    "## Metrics vs. App Engagement\n",
    "\n",
    "Here, I wanted to check if the metrics correlated in any way with how often users made reports. For example, it would be nice to know if making more reports in response to the 8 AM notification corresponded to elevated mood. Thus, average values per user of the four metrics are plotted versus the number of days on the app, the total number of reports, and the number of reports made in the morning for both mood and sleep. The only clear correlation is that users that make fewer reports overall tend to have more variance in the metrics, which of course could simply be because they have fewer reports to average over."
   ]
  },
  {
   "cell_type": "code",
   "execution_count": null,
   "metadata": {},
   "outputs": [],
   "source": [
    "g = sns.pairplot(user_df, y_vars=[\"avg_mood\", \"avg_sleep\", \"avg_anticipatoryStress\", \"avg_ruminationStress\"],\n",
    "                x_vars=[\"num_days\", \"num_reports\", \"num_morning_reports_sleep\", \"num_morning_reports_mood\"])"
   ]
  },
  {
   "cell_type": "markdown",
   "metadata": {},
   "source": [
    "## Report score vs. Time of Day\n",
    "\n",
    "Finally, I wanted to see how the score given on a report correlated with the time it was given. Once again, it is hard to discern an overall trend. This is something I find most puzzling: I would expect reports given late at night to indicate worse sleep than reports given in the morning! There is somewhat more variation in the scores for reports given between midnight and 8 AM, but this can also be related to the fact that there are many fewer reports given during that timeframe overall. (See the distribution of report times plotted above.)"
   ]
  },
  {
   "cell_type": "code",
   "execution_count": null,
   "metadata": {},
   "outputs": [],
   "source": [
    "by_hour = pd.DataFrame({'hour':subj_measures['hour'].unique()}).set_index('hour')\n",
    "for metric in report_types.categories.values:\n",
    "    by_hour[metric] = subj_measures[subj_measures['type']==metric].groupby('hour').mean().value\n",
    "\n",
    "g = sns.pairplot(by_hour.reset_index(), x_vars=['hour'], y_vars=['sleep', 'mood'], height=4, aspect=4/3)\n",
    "g.set(xticks=np.arange(0,25,4), xlabel='Report Hour (Eastern Time)', yticks=np.arange(0,4.1, 0.5))"
   ]
  },
  {
   "cell_type": "markdown",
   "metadata": {},
   "source": [
    "## Final Takeaways\n",
    "\n",
    "Overall, beyond the distribution of the time of day the reports were made, there does not appear to be much structure in the data. I would expect that overall, the metrics should correlate somewhat with each other (better sleep should correlate with better mood, etc) but this does not appear to be the case. Even more puzzling, reports of sleep during the middle of the night are no worse than those in the morning, which would seem strange unless many of the users worked the night shift. As far as other peices of information that might be useful, other metrics from the user such as pain, other forms of stress, or fatigue could be useful. Information about the amount of time spent sleeping would complement the subjective rating of sleep quality. Finally, evaluations from the user's therapist/psychologist/other healthcare provider would be a good complement to the subjective ratings from the user, particularly when evaluating overall progress."
   ]
  },
  {
   "cell_type": "code",
   "execution_count": null,
   "metadata": {},
   "outputs": [],
   "source": []
  }
 ],
 "metadata": {
  "language_info": {
   "name": "python",
   "pygments_lexer": "ipython3"
  }
 },
 "nbformat": 4,
 "nbformat_minor": 2
}
